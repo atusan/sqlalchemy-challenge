{
 "cells": [
  {
   "cell_type": "code",
   "execution_count": 1,
   "metadata": {},
   "outputs": [],
   "source": [
    "%matplotlib inline\n",
    "from matplotlib import style\n",
    "style.use('fivethirtyeight')\n",
    "import matplotlib.pyplot as plt"
   ]
  },
  {
   "cell_type": "code",
   "execution_count": 2,
   "metadata": {},
   "outputs": [],
   "source": [
    "import numpy as np\n",
    "import pandas as pd"
   ]
  },
  {
   "cell_type": "code",
   "execution_count": 3,
   "metadata": {},
   "outputs": [],
   "source": [
    "import datetime as dt"
   ]
  },
  {
   "cell_type": "markdown",
   "metadata": {},
   "source": [
    "# Reflect Tables into SQLAlchemy ORM"
   ]
  },
  {
   "cell_type": "code",
   "execution_count": 4,
   "metadata": {},
   "outputs": [],
   "source": [
    "# Python SQL toolkit and Object Relational Mapper\n",
    "import sqlalchemy\n",
    "from sqlalchemy.ext.automap import automap_base\n",
    "from sqlalchemy.orm import Session\n",
    "from sqlalchemy import create_engine, func"
   ]
  },
  {
   "cell_type": "code",
   "execution_count": 5,
   "metadata": {},
   "outputs": [],
   "source": [
    "engine = create_engine(\"sqlite:///Resources/hawaii.sqlite\")"
   ]
  },
  {
   "cell_type": "code",
   "execution_count": 6,
   "metadata": {},
   "outputs": [],
   "source": [
    "# reflect an existing database into a new model\n",
    "Base = automap_base()\n",
    "# reflect the tables\n",
    "Base.prepare(engine, reflect=True)"
   ]
  },
  {
   "cell_type": "code",
   "execution_count": 7,
   "metadata": {},
   "outputs": [
    {
     "data": {
      "text/plain": [
       "['measurement', 'station']"
      ]
     },
     "execution_count": 7,
     "metadata": {},
     "output_type": "execute_result"
    }
   ],
   "source": [
    "# We can view all of the classes that automap found\n",
    "Base.classes.keys()"
   ]
  },
  {
   "cell_type": "code",
   "execution_count": 8,
   "metadata": {},
   "outputs": [],
   "source": [
    "# Save references to each table\n",
    "Measurement = Base.classes.measurement\n",
    "Station = Base.classes.station"
   ]
  },
  {
   "cell_type": "code",
   "execution_count": 9,
   "metadata": {},
   "outputs": [],
   "source": [
    "# Create our session (link) from Python to the DB\n",
    "session = Session(engine)"
   ]
  },
  {
   "cell_type": "code",
   "execution_count": 10,
   "metadata": {},
   "outputs": [
    {
     "data": {
      "text/plain": [
       "{'_sa_instance_state': <sqlalchemy.orm.state.InstanceState at 0x11ccf74e0>,\n",
       " 'prcp': 0.08,\n",
       " 'date': '2010-01-01',\n",
       " 'id': 1,\n",
       " 'tobs': 65.0,\n",
       " 'station': 'USC00519397'}"
      ]
     },
     "execution_count": 10,
     "metadata": {},
     "output_type": "execute_result"
    }
   ],
   "source": [
    "measure_f = session.query(Measurement).first()\n",
    "measure_f.__dict__"
   ]
  },
  {
   "cell_type": "code",
   "execution_count": 11,
   "metadata": {},
   "outputs": [
    {
     "data": {
      "text/plain": [
       "{'_sa_instance_state': <sqlalchemy.orm.state.InstanceState at 0x11cd0e4e0>,\n",
       " 'station': 'USC00519397',\n",
       " 'id': 1,\n",
       " 'longitude': -157.8168,\n",
       " 'name': 'WAIKIKI 717.2, HI US',\n",
       " 'elevation': 3.0,\n",
       " 'latitude': 21.2716}"
      ]
     },
     "execution_count": 11,
     "metadata": {},
     "output_type": "execute_result"
    }
   ],
   "source": [
    "station_f = session.query(Station).first()\n",
    "station_f.__dict__"
   ]
  },
  {
   "cell_type": "markdown",
   "metadata": {},
   "source": [
    "# Exploratory Climate Analysis"
   ]
  },
  {
   "cell_type": "code",
   "execution_count": 12,
   "metadata": {},
   "outputs": [
    {
     "data": {
      "text/plain": [
       "[(1, 'USC00519397', '2010-01-01', 0.08, 65.0),\n",
       " (2, 'USC00519397', '2010-01-02', 0.0, 63.0),\n",
       " (3, 'USC00519397', '2010-01-03', 0.0, 74.0),\n",
       " (4, 'USC00519397', '2010-01-04', 0.0, 76.0),\n",
       " (5, 'USC00519397', '2010-01-06', None, 73.0)]"
      ]
     },
     "execution_count": 12,
     "metadata": {},
     "output_type": "execute_result"
    }
   ],
   "source": [
    "engine.execute('SELECT * FROM Measurement LIMIT 5').fetchall()"
   ]
  },
  {
   "cell_type": "code",
   "execution_count": 13,
   "metadata": {},
   "outputs": [],
   "source": [
    "# Design a query to retrieve the last 12 months of precipitation data and plot the results\n",
    "\n",
    "# Calculate the date 1 year ago from the last data point in the database\n",
    "\n",
    "# Perform a query to retrieve the data and precipitation scores\n",
    "\n",
    "# Save the query results as a Pandas DataFrame and set the index to the date column\n",
    "\n",
    "# Sort the dataframe by date\n",
    "\n",
    "# Use Pandas Plotting with Matplotlib to plot the data\n"
   ]
  },
  {
   "cell_type": "code",
   "execution_count": 14,
   "metadata": {},
   "outputs": [
    {
     "data": {
      "text/plain": [
       "('2017-08-23')"
      ]
     },
     "execution_count": 14,
     "metadata": {},
     "output_type": "execute_result"
    }
   ],
   "source": [
    "#finding the last day  \n",
    "last_day = session.query(func.max(Measurement.date)).first()\n",
    "last_day"
   ]
  },
  {
   "cell_type": "code",
   "execution_count": 15,
   "metadata": {},
   "outputs": [],
   "source": [
    "date_max = dt.datetime(2017, 8, 23)\n",
    "date_min = dt.datetime(2016,8,23)"
   ]
  },
  {
   "cell_type": "code",
   "execution_count": 16,
   "metadata": {},
   "outputs": [],
   "source": [
    "last_twelve_months = session.query(Measurement).filter(Measurement.date.between('2016-08-23', '2017-08-23')).all()"
   ]
  },
  {
   "cell_type": "code",
   "execution_count": 17,
   "metadata": {},
   "outputs": [
    {
     "data": {
      "text/html": [
       "<div>\n",
       "<style scoped>\n",
       "    .dataframe tbody tr th:only-of-type {\n",
       "        vertical-align: middle;\n",
       "    }\n",
       "\n",
       "    .dataframe tbody tr th {\n",
       "        vertical-align: top;\n",
       "    }\n",
       "\n",
       "    .dataframe thead th {\n",
       "        text-align: right;\n",
       "    }\n",
       "</style>\n",
       "<table border=\"1\" class=\"dataframe\">\n",
       "  <thead>\n",
       "    <tr style=\"text-align: right;\">\n",
       "      <th></th>\n",
       "      <th>date</th>\n",
       "      <th>id</th>\n",
       "      <th>prcp</th>\n",
       "      <th>station</th>\n",
       "      <th>tobs</th>\n",
       "    </tr>\n",
       "  </thead>\n",
       "  <tbody>\n",
       "    <tr>\n",
       "      <th>0</th>\n",
       "      <td>2016-08-23</td>\n",
       "      <td>2364</td>\n",
       "      <td>0.00</td>\n",
       "      <td>USC00519397</td>\n",
       "      <td>81.0</td>\n",
       "    </tr>\n",
       "    <tr>\n",
       "      <th>1</th>\n",
       "      <td>2016-08-24</td>\n",
       "      <td>2365</td>\n",
       "      <td>0.08</td>\n",
       "      <td>USC00519397</td>\n",
       "      <td>79.0</td>\n",
       "    </tr>\n",
       "    <tr>\n",
       "      <th>2</th>\n",
       "      <td>2016-08-25</td>\n",
       "      <td>2366</td>\n",
       "      <td>0.08</td>\n",
       "      <td>USC00519397</td>\n",
       "      <td>80.0</td>\n",
       "    </tr>\n",
       "    <tr>\n",
       "      <th>3</th>\n",
       "      <td>2016-08-26</td>\n",
       "      <td>2367</td>\n",
       "      <td>0.00</td>\n",
       "      <td>USC00519397</td>\n",
       "      <td>79.0</td>\n",
       "    </tr>\n",
       "    <tr>\n",
       "      <th>4</th>\n",
       "      <td>2016-08-27</td>\n",
       "      <td>2368</td>\n",
       "      <td>0.00</td>\n",
       "      <td>USC00519397</td>\n",
       "      <td>77.0</td>\n",
       "    </tr>\n",
       "  </tbody>\n",
       "</table>\n",
       "</div>"
      ],
      "text/plain": [
       "         date    id  prcp      station  tobs\n",
       "0  2016-08-23  2364  0.00  USC00519397  81.0\n",
       "1  2016-08-24  2365  0.08  USC00519397  79.0\n",
       "2  2016-08-25  2366  0.08  USC00519397  80.0\n",
       "3  2016-08-26  2367  0.00  USC00519397  79.0\n",
       "4  2016-08-27  2368  0.00  USC00519397  77.0"
      ]
     },
     "execution_count": 17,
     "metadata": {},
     "output_type": "execute_result"
    }
   ],
   "source": [
    "data = []\n",
    "for month in last_twelve_months:\n",
    "    row = {}\n",
    "    row['date'] = month.date\n",
    "    row['id'] = month.id\n",
    "    row['prcp'] = month.prcp\n",
    "    row['station'] = month.station\n",
    "    row['tobs'] = month.tobs\n",
    "    data.append(row)\n",
    "\n",
    "df = pd.DataFrame(data)\n",
    "\n",
    "df.head()"
   ]
  },
  {
   "cell_type": "code",
   "execution_count": 18,
   "metadata": {},
   "outputs": [
    {
     "data": {
      "text/html": [
       "<div>\n",
       "<style scoped>\n",
       "    .dataframe tbody tr th:only-of-type {\n",
       "        vertical-align: middle;\n",
       "    }\n",
       "\n",
       "    .dataframe tbody tr th {\n",
       "        vertical-align: top;\n",
       "    }\n",
       "\n",
       "    .dataframe thead th {\n",
       "        text-align: right;\n",
       "    }\n",
       "</style>\n",
       "<table border=\"1\" class=\"dataframe\">\n",
       "  <thead>\n",
       "    <tr style=\"text-align: right;\">\n",
       "      <th></th>\n",
       "      <th>date</th>\n",
       "      <th>prcp</th>\n",
       "    </tr>\n",
       "  </thead>\n",
       "  <tbody>\n",
       "    <tr>\n",
       "      <th>0</th>\n",
       "      <td>2016-08-23</td>\n",
       "      <td>0.00</td>\n",
       "    </tr>\n",
       "    <tr>\n",
       "      <th>1</th>\n",
       "      <td>2016-08-24</td>\n",
       "      <td>0.08</td>\n",
       "    </tr>\n",
       "    <tr>\n",
       "      <th>2</th>\n",
       "      <td>2016-08-25</td>\n",
       "      <td>0.08</td>\n",
       "    </tr>\n",
       "    <tr>\n",
       "      <th>3</th>\n",
       "      <td>2016-08-26</td>\n",
       "      <td>0.00</td>\n",
       "    </tr>\n",
       "    <tr>\n",
       "      <th>4</th>\n",
       "      <td>2016-08-27</td>\n",
       "      <td>0.00</td>\n",
       "    </tr>\n",
       "  </tbody>\n",
       "</table>\n",
       "</div>"
      ],
      "text/plain": [
       "         date  prcp\n",
       "0  2016-08-23  0.00\n",
       "1  2016-08-24  0.08\n",
       "2  2016-08-25  0.08\n",
       "3  2016-08-26  0.00\n",
       "4  2016-08-27  0.00"
      ]
     },
     "execution_count": 18,
     "metadata": {},
     "output_type": "execute_result"
    }
   ],
   "source": [
    "prcp_last12 = df[['date','prcp']]\n",
    "prcp_last12.head()"
   ]
  },
  {
   "cell_type": "code",
   "execution_count": 19,
   "metadata": {},
   "outputs": [
    {
     "data": {
      "image/png": "[encoded data removed]",
      "text/plain": [
       "<Figure size 720x576 with 1 Axes>"
      ]
     },
     "metadata": {
      "needs_background": "light"
     },
     "output_type": "display_data"
    }
   ],
   "source": [
    "prcp_last12.plot('date','prcp',figsize=(10,8))\n",
    "plt.xlabel(\"Date\")\n",
    "plt.ylabel(\"precipitation\")\n",
    "plt.xticks(rotation=45)\n",
    "plt.title(\"precipitation analysis\")\n",
    "plt.legend(loc=\"best\")\n",
    "plt.show()"
   ]
  },
  {
   "cell_type": "markdown",
   "metadata": {},
   "source": [
    "![precipitation](Images/precipitation.png)"
   ]
  },
  {
   "cell_type": "code",
   "execution_count": 20,
   "metadata": {},
   "outputs": [
    {
     "data": {
      "text/html": [
       "<div>\n",
       "<style scoped>\n",
       "    .dataframe tbody tr th:only-of-type {\n",
       "        vertical-align: middle;\n",
       "    }\n",
       "\n",
       "    .dataframe tbody tr th {\n",
       "        vertical-align: top;\n",
       "    }\n",
       "\n",
       "    .dataframe thead th {\n",
       "        text-align: right;\n",
       "    }\n",
       "</style>\n",
       "<table border=\"1\" class=\"dataframe\">\n",
       "  <thead>\n",
       "    <tr style=\"text-align: right;\">\n",
       "      <th></th>\n",
       "      <th>prcp</th>\n",
       "    </tr>\n",
       "  </thead>\n",
       "  <tbody>\n",
       "    <tr>\n",
       "      <th>count</th>\n",
       "      <td>2021.000000</td>\n",
       "    </tr>\n",
       "    <tr>\n",
       "      <th>mean</th>\n",
       "      <td>0.177279</td>\n",
       "    </tr>\n",
       "    <tr>\n",
       "      <th>std</th>\n",
       "      <td>0.461190</td>\n",
       "    </tr>\n",
       "    <tr>\n",
       "      <th>min</th>\n",
       "      <td>0.000000</td>\n",
       "    </tr>\n",
       "    <tr>\n",
       "      <th>25%</th>\n",
       "      <td>0.000000</td>\n",
       "    </tr>\n",
       "    <tr>\n",
       "      <th>50%</th>\n",
       "      <td>0.020000</td>\n",
       "    </tr>\n",
       "    <tr>\n",
       "      <th>75%</th>\n",
       "      <td>0.130000</td>\n",
       "    </tr>\n",
       "    <tr>\n",
       "      <th>max</th>\n",
       "      <td>6.700000</td>\n",
       "    </tr>\n",
       "  </tbody>\n",
       "</table>\n",
       "</div>"
      ],
      "text/plain": [
       "              prcp\n",
       "count  2021.000000\n",
       "mean      0.177279\n",
       "std       0.461190\n",
       "min       0.000000\n",
       "25%       0.000000\n",
       "50%       0.020000\n",
       "75%       0.130000\n",
       "max       6.700000"
      ]
     },
     "execution_count": 20,
     "metadata": {},
     "output_type": "execute_result"
    }
   ],
   "source": [
    "# Use Pandas to calcualte the summary statistics for the precipitation data\n",
    "\n",
    "prcp_last12.rename(columns = {'prcp':'precipitation'}) \n",
    "prcp_last12.describe()"
   ]
  },
  {
   "cell_type": "markdown",
   "metadata": {},
   "source": [
    "![describe](Images/describe.png)"
   ]
  },
  {
   "cell_type": "code",
   "execution_count": 21,
   "metadata": {},
   "outputs": [
    {
     "data": {
      "text/plain": [
       "9"
      ]
     },
     "execution_count": 21,
     "metadata": {},
     "output_type": "execute_result"
    }
   ],
   "source": [
    "# Design a query to show how many stations are available in this dataset?\n",
    "st = session.query(Measurement).group_by(Measurement.station).count()\n",
    "st"
   ]
  },
  {
   "cell_type": "code",
   "execution_count": 22,
   "metadata": {},
   "outputs": [
    {
     "name": "stdout",
     "output_type": "stream",
     "text": [
      "USC00519281\n"
     ]
    },
    {
     "data": {
      "text/plain": [
       "[('USC00519281', 2772),\n",
       " ('USC00519397', 2724),\n",
       " ('USC00513117', 2709),\n",
       " ('USC00519523', 2669),\n",
       " ('USC00516128', 2612),\n",
       " ('USC00514830', 2202),\n",
       " ('USC00511918', 1979),\n",
       " ('USC00517948', 1372),\n",
       " ('USC00518838', 511)]"
      ]
     },
     "execution_count": 22,
     "metadata": {},
     "output_type": "execute_result"
    }
   ],
   "source": [
    "# What are the most active stations? (i.e. what stations have the most rows)?\n",
    "# List the stations and the counts in descending order.\n",
    "\n",
    "result = session.query(Measurement.station, func.count(Measurement.tobs)).group_by(Measurement.station).order_by(func.count(Measurement.tobs).desc()).all()\n",
    "#most_active = result[0][0]\n",
    "most_active_st = result[0][0]\n",
    "print(most_active_st)\n",
    "result"
   ]
  },
  {
   "cell_type": "code",
   "execution_count": 23,
   "metadata": {},
   "outputs": [
    {
     "data": {
      "text/plain": [
       "[('USC00519281', 54.0, 85.0, 71.66378066378067)]"
      ]
     },
     "execution_count": 23,
     "metadata": {},
     "output_type": "execute_result"
    }
   ],
   "source": [
    "# Using the station id from the previous query, calculate the lowest temperature recorded, \n",
    "# highest temperature recorded, and average temperature of the most active station?\n",
    "temp_result = session.query(Measurement.station, func.min(Measurement.tobs), func.max(Measurement.tobs), func.avg(Measurement.tobs)).\\\n",
    "filter(Measurement.station==most_active_st).all()\n",
    "temp_result"
   ]
  },
  {
   "cell_type": "code",
   "execution_count": 24,
   "metadata": {},
   "outputs": [
    {
     "data": {
      "text/plain": [
       "[('USC00519397', 87.0)]"
      ]
     },
     "execution_count": 24,
     "metadata": {},
     "output_type": "execute_result"
    }
   ],
   "source": [
    "# Choose the station with the highest number of temperature observations.\n",
    "# Query the last 12 months of temperature observation data for this station and plot the results as a histogram\n",
    "temp_max = session.query(Measurement.station,func.max(Measurement.tobs)).all()\n",
    "temp_max"
   ]
  },
  {
   "cell_type": "code",
   "execution_count": 25,
   "metadata": {},
   "outputs": [
    {
     "data": {
      "text/plain": [
       "'USC00519397'"
      ]
     },
     "execution_count": 25,
     "metadata": {},
     "output_type": "execute_result"
    }
   ],
   "source": [
    "temp_max_st = temp_max[0][0]\n",
    "temp_max_st"
   ]
  },
  {
   "cell_type": "code",
   "execution_count": 26,
   "metadata": {},
   "outputs": [
    {
     "data": {
      "text/plain": [
       "[(79.0, '2016-08-24'),\n",
       " (80.0, '2016-08-25'),\n",
       " (79.0, '2016-08-26'),\n",
       " (77.0, '2016-08-27'),\n",
       " (78.0, '2016-08-28'),\n",
       " (78.0, '2016-08-29'),\n",
       " (79.0, '2016-08-30'),\n",
       " (80.0, '2016-08-31'),\n",
       " (81.0, '2016-09-01'),\n",
       " (80.0, '2016-09-02'),\n",
       " (79.0, '2016-09-03'),\n",
       " (75.0, '2016-09-04'),\n",
       " (79.0, '2016-09-05'),\n",
       " (76.0, '2016-09-06'),\n",
       " (76.0, '2016-09-07'),\n",
       " (80.0, '2016-09-08'),\n",
       " (79.0, '2016-09-09'),\n",
       " (78.0, '2016-09-10'),\n",
       " (76.0, '2016-09-11'),\n",
       " (78.0, '2016-09-12'),\n",
       " (78.0, '2016-09-13'),\n",
       " (75.0, '2016-09-14'),\n",
       " (79.0, '2016-09-15'),\n",
       " (80.0, '2016-09-16'),\n",
       " (79.0, '2016-09-17'),\n",
       " (81.0, '2016-09-18'),\n",
       " (77.0, '2016-09-19'),\n",
       " (77.0, '2016-09-20'),\n",
       " (78.0, '2016-09-21'),\n",
       " (76.0, '2016-09-22'),\n",
       " (82.0, '2016-09-23'),\n",
       " (81.0, '2016-09-24'),\n",
       " (78.0, '2016-09-25'),\n",
       " (80.0, '2016-09-26'),\n",
       " (80.0, '2016-09-27'),\n",
       " (79.0, '2016-09-28'),\n",
       " (80.0, '2016-09-29'),\n",
       " (80.0, '2016-09-30'),\n",
       " (80.0, '2016-10-01'),\n",
       " (79.0, '2016-10-02'),\n",
       " (79.0, '2016-10-03'),\n",
       " (79.0, '2016-10-04'),\n",
       " (80.0, '2016-10-05'),\n",
       " (80.0, '2016-10-06'),\n",
       " (79.0, '2016-10-07'),\n",
       " (78.0, '2016-10-08'),\n",
       " (76.0, '2016-10-09'),\n",
       " (75.0, '2016-10-10'),\n",
       " (80.0, '2016-10-11'),\n",
       " (80.0, '2016-10-12'),\n",
       " (79.0, '2016-10-13'),\n",
       " (80.0, '2016-10-14'),\n",
       " (79.0, '2016-10-15'),\n",
       " (78.0, '2016-10-16'),\n",
       " (78.0, '2016-10-17'),\n",
       " (80.0, '2016-10-18'),\n",
       " (81.0, '2016-10-19'),\n",
       " (79.0, '2016-10-20'),\n",
       " (77.0, '2016-10-21'),\n",
       " (79.0, '2016-10-22'),\n",
       " (78.0, '2016-10-23'),\n",
       " (77.0, '2016-10-24'),\n",
       " (77.0, '2016-10-25'),\n",
       " (78.0, '2016-10-26'),\n",
       " (77.0, '2016-10-27'),\n",
       " (78.0, '2016-10-28'),\n",
       " (77.0, '2016-10-29'),\n",
       " (76.0, '2016-10-30'),\n",
       " (77.0, '2016-10-31'),\n",
       " (77.0, '2016-11-01'),\n",
       " (77.0, '2016-11-02'),\n",
       " (77.0, '2016-11-03'),\n",
       " (77.0, '2016-11-04'),\n",
       " (76.0, '2016-11-05'),\n",
       " (75.0, '2016-11-06'),\n",
       " (71.0, '2016-11-07'),\n",
       " (71.0, '2016-11-08'),\n",
       " (71.0, '2016-11-09'),\n",
       " (71.0, '2016-11-10'),\n",
       " (72.0, '2016-11-11'),\n",
       " (71.0, '2016-11-12'),\n",
       " (72.0, '2016-11-13'),\n",
       " (77.0, '2016-11-14'),\n",
       " (77.0, '2016-11-15'),\n",
       " (77.0, '2016-11-16'),\n",
       " (77.0, '2016-11-17'),\n",
       " (77.0, '2016-11-18'),\n",
       " (75.0, '2016-11-19'),\n",
       " (76.0, '2016-11-20'),\n",
       " (76.0, '2016-11-21'),\n",
       " (75.0, '2016-11-22'),\n",
       " (72.0, '2016-11-23'),\n",
       " (74.0, '2016-11-24'),\n",
       " (75.0, '2016-11-25'),\n",
       " (73.0, '2016-11-26'),\n",
       " (76.0, '2016-11-27'),\n",
       " (75.0, '2016-11-28'),\n",
       " (68.0, '2016-11-29'),\n",
       " (75.0, '2016-11-30'),\n",
       " (75.0, '2016-12-01'),\n",
       " (72.0, '2016-12-02'),\n",
       " (69.0, '2016-12-03'),\n",
       " (71.0, '2016-12-04'),\n",
       " (68.0, '2016-12-05'),\n",
       " (67.0, '2016-12-06'),\n",
       " (69.0, '2016-12-07'),\n",
       " (73.0, '2016-12-08'),\n",
       " (70.0, '2016-12-09'),\n",
       " (70.0, '2016-12-10'),\n",
       " (70.0, '2016-12-11'),\n",
       " (66.0, '2016-12-12'),\n",
       " (67.0, '2016-12-13'),\n",
       " (70.0, '2016-12-14'),\n",
       " (66.0, '2016-12-15'),\n",
       " (62.0, '2016-12-16'),\n",
       " (71.0, '2016-12-17'),\n",
       " (73.0, '2016-12-18'),\n",
       " (69.0, '2016-12-19'),\n",
       " (77.0, '2016-12-20'),\n",
       " (74.0, '2016-12-21'),\n",
       " (71.0, '2016-12-22'),\n",
       " (72.0, '2016-12-23'),\n",
       " (74.0, '2016-12-24'),\n",
       " (74.0, '2016-12-25'),\n",
       " (74.0, '2016-12-26'),\n",
       " (74.0, '2016-12-27'),\n",
       " (71.0, '2016-12-28'),\n",
       " (73.0, '2016-12-29'),\n",
       " (69.0, '2016-12-30'),\n",
       " (66.0, '2016-12-31'),\n",
       " (62.0, '2017-01-01'),\n",
       " (66.0, '2017-01-02'),\n",
       " (63.0, '2017-01-03'),\n",
       " (62.0, '2017-01-04'),\n",
       " (63.0, '2017-01-05'),\n",
       " (64.0, '2017-01-06'),\n",
       " (66.0, '2017-01-07'),\n",
       " (60.0, '2017-01-08'),\n",
       " (64.0, '2017-01-09'),\n",
       " (63.0, '2017-01-10'),\n",
       " (78.0, '2017-01-11'),\n",
       " (67.0, '2017-01-12'),\n",
       " (67.0, '2017-01-13'),\n",
       " (65.0, '2017-01-14'),\n",
       " (66.0, '2017-01-15'),\n",
       " (67.0, '2017-01-16'),\n",
       " (66.0, '2017-01-17'),\n",
       " (72.0, '2017-01-18'),\n",
       " (73.0, '2017-01-19'),\n",
       " (71.0, '2017-01-20'),\n",
       " (72.0, '2017-01-21'),\n",
       " (72.0, '2017-01-22'),\n",
       " (72.0, '2017-01-23'),\n",
       " (69.0, '2017-01-24'),\n",
       " (72.0, '2017-01-25'),\n",
       " (71.0, '2017-01-26'),\n",
       " (65.0, '2017-01-27'),\n",
       " (64.0, '2017-01-28'),\n",
       " (67.0, '2017-01-29'),\n",
       " (67.0, '2017-01-30'),\n",
       " (68.0, '2017-01-31'),\n",
       " (70.0, '2017-02-01'),\n",
       " (61.0, '2017-02-02'),\n",
       " (65.0, '2017-02-03'),\n",
       " (72.0, '2017-02-04'),\n",
       " (73.0, '2017-02-05'),\n",
       " (76.0, '2017-02-06'),\n",
       " (64.0, '2017-02-07'),\n",
       " (62.0, '2017-02-08'),\n",
       " (61.0, '2017-02-09'),\n",
       " (71.0, '2017-02-10'),\n",
       " (69.0, '2017-02-11'),\n",
       " (68.0, '2017-02-12'),\n",
       " (74.0, '2017-02-13'),\n",
       " (75.0, '2017-02-14'),\n",
       " (75.0, '2017-02-15'),\n",
       " (71.0, '2017-02-16'),\n",
       " (71.0, '2017-02-17'),\n",
       " (68.0, '2017-02-18'),\n",
       " (69.0, '2017-02-19'),\n",
       " (71.0, '2017-02-20'),\n",
       " (70.0, '2017-02-21'),\n",
       " (72.0, '2017-02-22'),\n",
       " (74.0, '2017-02-23'),\n",
       " (70.0, '2017-02-24'),\n",
       " (64.0, '2017-02-25'),\n",
       " (65.0, '2017-02-26'),\n",
       " (72.0, '2017-02-27'),\n",
       " (74.0, '2017-02-28'),\n",
       " (66.0, '2017-03-01'),\n",
       " (73.0, '2017-03-02'),\n",
       " (69.0, '2017-03-03'),\n",
       " (74.0, '2017-03-04'),\n",
       " (71.0, '2017-03-05'),\n",
       " (69.0, '2017-03-06'),\n",
       " (68.0, '2017-03-07'),\n",
       " (71.0, '2017-03-08'),\n",
       " (72.0, '2017-03-09'),\n",
       " (68.0, '2017-03-10'),\n",
       " (71.0, '2017-03-11'),\n",
       " (74.0, '2017-03-12'),\n",
       " (71.0, '2017-03-13'),\n",
       " (71.0, '2017-03-14'),\n",
       " (71.0, '2017-03-15'),\n",
       " (70.0, '2017-03-16'),\n",
       " (72.0, '2017-03-17'),\n",
       " (69.0, '2017-03-18'),\n",
       " (73.0, '2017-03-19'),\n",
       " (75.0, '2017-03-20'),\n",
       " (75.0, '2017-03-21'),\n",
       " (74.0, '2017-03-22'),\n",
       " (70.0, '2017-03-23'),\n",
       " (73.0, '2017-03-24'),\n",
       " (76.0, '2017-03-25'),\n",
       " (76.0, '2017-03-26'),\n",
       " (75.0, '2017-03-27'),\n",
       " (77.0, '2017-03-28'),\n",
       " (76.0, '2017-03-29'),\n",
       " (77.0, '2017-03-30'),\n",
       " (76.0, '2017-03-31'),\n",
       " (76.0, '2017-04-01'),\n",
       " (76.0, '2017-04-02'),\n",
       " (77.0, '2017-04-03'),\n",
       " (76.0, '2017-04-04'),\n",
       " (78.0, '2017-04-05'),\n",
       " (77.0, '2017-04-06'),\n",
       " (77.0, '2017-04-07'),\n",
       " (77.0, '2017-04-08'),\n",
       " (72.0, '2017-04-09'),\n",
       " (75.0, '2017-04-10'),\n",
       " (79.0, '2017-04-11'),\n",
       " (78.0, '2017-04-12'),\n",
       " (77.0, '2017-04-13'),\n",
       " (75.0, '2017-04-14'),\n",
       " (73.0, '2017-04-15'),\n",
       " (74.0, '2017-04-16'),\n",
       " (74.0, '2017-04-17'),\n",
       " (75.0, '2017-04-18'),\n",
       " (74.0, '2017-04-19'),\n",
       " (78.0, '2017-04-20'),\n",
       " (73.0, '2017-04-21'),\n",
       " (76.0, '2017-04-22'),\n",
       " (77.0, '2017-04-23'),\n",
       " (77.0, '2017-04-24'),\n",
       " (77.0, '2017-04-25'),\n",
       " (77.0, '2017-04-26'),\n",
       " (78.0, '2017-04-27'),\n",
       " (76.0, '2017-04-28'),\n",
       " (72.0, '2017-04-29'),\n",
       " (63.0, '2017-04-30'),\n",
       " (75.0, '2017-05-01'),\n",
       " (78.0, '2017-05-02'),\n",
       " (78.0, '2017-05-03'),\n",
       " (78.0, '2017-05-04'),\n",
       " (79.0, '2017-05-05'),\n",
       " (79.0, '2017-05-06'),\n",
       " (79.0, '2017-05-07'),\n",
       " (77.0, '2017-05-08'),\n",
       " (78.0, '2017-05-10'),\n",
       " (78.0, '2017-05-11'),\n",
       " (79.0, '2017-05-12'),\n",
       " (79.0, '2017-05-13'),\n",
       " (77.0, '2017-05-14'),\n",
       " (78.0, '2017-05-15'),\n",
       " (78.0, '2017-05-16'),\n",
       " (78.0, '2017-05-17'),\n",
       " (73.0, '2017-05-18'),\n",
       " (76.0, '2017-05-19'),\n",
       " (78.0, '2017-05-20'),\n",
       " (76.0, '2017-05-21'),\n",
       " (77.0, '2017-05-22'),\n",
       " (87.0, '2017-05-23'),\n",
       " (77.0, '2017-05-24'),\n",
       " (77.0, '2017-05-25'),\n",
       " (74.0, '2017-05-27'),\n",
       " (76.0, '2017-05-28'),\n",
       " (75.0, '2017-05-29'),\n",
       " (76.0, '2017-05-30'),\n",
       " (79.0, '2017-05-31'),\n",
       " (79.0, '2017-06-01'),\n",
       " (79.0, '2017-06-02'),\n",
       " (79.0, '2017-06-03'),\n",
       " (79.0, '2017-06-04'),\n",
       " (80.0, '2017-06-05'),\n",
       " (79.0, '2017-06-06'),\n",
       " (79.0, '2017-06-07'),\n",
       " (80.0, '2017-06-08'),\n",
       " (80.0, '2017-06-09'),\n",
       " (77.0, '2017-06-10'),\n",
       " (79.0, '2017-06-11'),\n",
       " (83.0, '2017-06-12'),\n",
       " (80.0, '2017-06-13'),\n",
       " (80.0, '2017-06-14'),\n",
       " (78.0, '2017-06-15'),\n",
       " (79.0, '2017-06-16'),\n",
       " (80.0, '2017-06-17'),\n",
       " (77.0, '2017-06-18'),\n",
       " (80.0, '2017-06-19'),\n",
       " (78.0, '2017-06-20'),\n",
       " (79.0, '2017-06-21'),\n",
       " (80.0, '2017-06-22'),\n",
       " (78.0, '2017-06-23'),\n",
       " (80.0, '2017-06-24'),\n",
       " (80.0, '2017-06-25'),\n",
       " (81.0, '2017-06-26'),\n",
       " (80.0, '2017-06-27'),\n",
       " (79.0, '2017-06-28'),\n",
       " (79.0, '2017-06-29'),\n",
       " (75.0, '2017-06-30'),\n",
       " (80.0, '2017-07-01'),\n",
       " (80.0, '2017-07-02'),\n",
       " (78.0, '2017-07-03'),\n",
       " (80.0, '2017-07-04'),\n",
       " (80.0, '2017-07-05'),\n",
       " (81.0, '2017-07-06'),\n",
       " (79.0, '2017-07-07'),\n",
       " (80.0, '2017-07-08'),\n",
       " (80.0, '2017-07-09'),\n",
       " (80.0, '2017-07-10'),\n",
       " (78.0, '2017-07-11'),\n",
       " (81.0, '2017-07-12'),\n",
       " (79.0, '2017-07-13'),\n",
       " (81.0, '2017-07-14'),\n",
       " (80.0, '2017-07-15'),\n",
       " (78.0, '2017-07-16'),\n",
       " (80.0, '2017-07-17'),\n",
       " (80.0, '2017-07-18'),\n",
       " (80.0, '2017-07-20'),\n",
       " (80.0, '2017-07-21'),\n",
       " (81.0, '2017-07-22'),\n",
       " (81.0, '2017-07-23'),\n",
       " (78.0, '2017-07-24'),\n",
       " (80.0, '2017-07-25'),\n",
       " (82.0, '2017-07-26'),\n",
       " (79.0, '2017-07-27'),\n",
       " (81.0, '2017-07-28'),\n",
       " (81.0, '2017-07-29'),\n",
       " (81.0, '2017-07-30'),\n",
       " (80.0, '2017-07-31'),\n",
       " (77.0, '2017-08-01'),\n",
       " (73.0, '2017-08-02'),\n",
       " (79.0, '2017-08-03'),\n",
       " (80.0, '2017-08-04'),\n",
       " (81.0, '2017-08-05'),\n",
       " (80.0, '2017-08-06'),\n",
       " (80.0, '2017-08-07'),\n",
       " (80.0, '2017-08-08'),\n",
       " (80.0, '2017-08-09'),\n",
       " (81.0, '2017-08-10'),\n",
       " (78.0, '2017-08-11'),\n",
       " (80.0, '2017-08-12'),\n",
       " (81.0, '2017-08-13'),\n",
       " (79.0, '2017-08-14'),\n",
       " (78.0, '2017-08-15'),\n",
       " (80.0, '2017-08-18'),\n",
       " (79.0, '2017-08-19'),\n",
       " (81.0, '2017-08-20'),\n",
       " (81.0, '2017-08-21'),\n",
       " (82.0, '2017-08-22'),\n",
       " (81.0, '2017-08-23')]"
      ]
     },
     "execution_count": 26,
     "metadata": {},
     "output_type": "execute_result"
    }
   ],
   "source": [
    "last_12mo = session.query(Measurement.tobs,Measurement.date).\\\n",
    "filter(Measurement.station==temp_max_st).filter(Measurement.date>date_min).all()\n",
    "last_12mo"
   ]
  },
  {
   "cell_type": "code",
   "execution_count": 27,
   "metadata": {},
   "outputs": [
    {
     "data": {
      "text/html": [
       "<div>\n",
       "<style scoped>\n",
       "    .dataframe tbody tr th:only-of-type {\n",
       "        vertical-align: middle;\n",
       "    }\n",
       "\n",
       "    .dataframe tbody tr th {\n",
       "        vertical-align: top;\n",
       "    }\n",
       "\n",
       "    .dataframe thead th {\n",
       "        text-align: right;\n",
       "    }\n",
       "</style>\n",
       "<table border=\"1\" class=\"dataframe\">\n",
       "  <thead>\n",
       "    <tr style=\"text-align: right;\">\n",
       "      <th></th>\n",
       "      <th>date</th>\n",
       "      <th>tobs</th>\n",
       "    </tr>\n",
       "  </thead>\n",
       "  <tbody>\n",
       "    <tr>\n",
       "      <th>0</th>\n",
       "      <td>2016-08-24</td>\n",
       "      <td>79.0</td>\n",
       "    </tr>\n",
       "    <tr>\n",
       "      <th>1</th>\n",
       "      <td>2016-08-25</td>\n",
       "      <td>80.0</td>\n",
       "    </tr>\n",
       "    <tr>\n",
       "      <th>2</th>\n",
       "      <td>2016-08-26</td>\n",
       "      <td>79.0</td>\n",
       "    </tr>\n",
       "    <tr>\n",
       "      <th>3</th>\n",
       "      <td>2016-08-27</td>\n",
       "      <td>77.0</td>\n",
       "    </tr>\n",
       "    <tr>\n",
       "      <th>4</th>\n",
       "      <td>2016-08-28</td>\n",
       "      <td>78.0</td>\n",
       "    </tr>\n",
       "  </tbody>\n",
       "</table>\n",
       "</div>"
      ],
      "text/plain": [
       "         date  tobs\n",
       "0  2016-08-24  79.0\n",
       "1  2016-08-25  80.0\n",
       "2  2016-08-26  79.0\n",
       "3  2016-08-27  77.0\n",
       "4  2016-08-28  78.0"
      ]
     },
     "execution_count": 27,
     "metadata": {},
     "output_type": "execute_result"
    }
   ],
   "source": [
    "temp_data = []\n",
    "for month in last_12mo:\n",
    "    row = {}\n",
    "    row['date'] = month.date\n",
    "    row['tobs'] = month.tobs\n",
    "    temp_data.append(row)\n",
    "temp_df = pd.DataFrame(temp_data)\n",
    "temp_df.head()\n"
   ]
  },
  {
   "cell_type": "code",
   "execution_count": 28,
   "metadata": {},
   "outputs": [
    {
     "data": {
      "image/png": "[encoded data removed]",
      "text/plain": [
       "<Figure size 432x288 with 1 Axes>"
      ]
     },
     "metadata": {
      "needs_background": "light"
     },
     "output_type": "display_data"
    }
   ],
   "source": [
    "plt.hist(temp_df['tobs'],label='tobs')\n",
    "plt.xlabel(\"tobs\")\n",
    "plt.ylabel('Counts')\n",
    "plt.title(\"Station Analysis(8/23/16-8/23/17)\")\n",
    "plt.legend(loc=\"best\")\n",
    "plt.show()"
   ]
  },
  {
   "cell_type": "markdown",
   "metadata": {},
   "source": [
    "![precipitation](Images/station-histogram.png)"
   ]
  },
  {
   "cell_type": "code",
   "execution_count": 29,
   "metadata": {},
   "outputs": [
    {
     "name": "stdout",
     "output_type": "stream",
     "text": [
      "[(62.0, 69.57142857142857, 74.0)]\n"
     ]
    }
   ],
   "source": [
    "# This function called `calc_temps` will accept start date and end date in the format '%Y-%m-%d' \n",
    "# and return the minimum, average, and maximum temperatures for that range of dates\n",
    "def calc_temps(start_date, end_date):\n",
    "    \"\"\"TMIN, TAVG, and TMAX for a list of dates.\n",
    "    \n",
    "    Args:\n",
    "        start_date (string): A date string in the format %Y-%m-%d\n",
    "        end_date (string): A date string in the format %Y-%m-%d\n",
    "        \n",
    "    Returns:\n",
    "        TMIN, TAVE, and TMAX\n",
    "    \"\"\"\n",
    "    \n",
    "    return session.query(func.min(Measurement.tobs), func.avg(Measurement.tobs), func.max(Measurement.tobs)).\\\n",
    "        filter(Measurement.date >= start_date).filter(Measurement.date <= end_date).all()\n",
    "\n",
    "# function usage example\n",
    "print(calc_temps('2012-02-28', '2012-03-05'))"
   ]
  },
  {
   "cell_type": "code",
   "execution_count": 30,
   "metadata": {},
   "outputs": [
    {
     "name": "stdout",
     "output_type": "stream",
     "text": [
      "[(69.0, 72.28571428571429, 74.0)]\n"
     ]
    }
   ],
   "source": [
    "# Use your previous function `calc_temps` to calculate the tmin, tavg, and tmax \n",
    "# for your trip using the previous year's data for those same dates.\n",
    "\n",
    "start_date = '2017-02-28'\n",
    "end_date = '2017-02-30'\n",
    "temp_trip = calc_temps(start_date, end_date )\n",
    "print(calc_temps(start_date, end_date ))\n"
   ]
  },
  {
   "cell_type": "code",
   "execution_count": 31,
   "metadata": {},
   "outputs": [
    {
     "data": {
      "text/html": [
       "<div>\n",
       "<style scoped>\n",
       "    .dataframe tbody tr th:only-of-type {\n",
       "        vertical-align: middle;\n",
       "    }\n",
       "\n",
       "    .dataframe tbody tr th {\n",
       "        vertical-align: top;\n",
       "    }\n",
       "\n",
       "    .dataframe thead th {\n",
       "        text-align: right;\n",
       "    }\n",
       "</style>\n",
       "<table border=\"1\" class=\"dataframe\">\n",
       "  <thead>\n",
       "    <tr style=\"text-align: right;\">\n",
       "      <th></th>\n",
       "      <th>tmin</th>\n",
       "      <th>tavg</th>\n",
       "      <th>tmax</th>\n",
       "    </tr>\n",
       "  </thead>\n",
       "  <tbody>\n",
       "    <tr>\n",
       "      <th>0</th>\n",
       "      <td>69.0</td>\n",
       "      <td>72.285714</td>\n",
       "      <td>74.0</td>\n",
       "    </tr>\n",
       "  </tbody>\n",
       "</table>\n",
       "</div>"
      ],
      "text/plain": [
       "   tmin       tavg  tmax\n",
       "0  69.0  72.285714  74.0"
      ]
     },
     "execution_count": 31,
     "metadata": {},
     "output_type": "execute_result"
    }
   ],
   "source": [
    "# Plot the results from your previous query as a bar chart. \n",
    "# Use \"Trip Avg Temp\" as your Title\n",
    "# Use the average temperature for the y value\n",
    "# Use the peak-to-peak (tmax-tmin) value as the y error bar (yerr)\n",
    "\n",
    "temp_df = pd.DataFrame(temp_trip, columns=['tmin', 'tavg', 'tmax'])\n",
    "temp_df"
   ]
  },
  {
   "cell_type": "code",
   "execution_count": 32,
   "metadata": {},
   "outputs": [
    {
     "data": {
      "text/plain": [
       "0    5.0\n",
       "dtype: float64"
      ]
     },
     "execution_count": 32,
     "metadata": {},
     "output_type": "execute_result"
    }
   ],
   "source": [
    "y_error = temp_df['tmax']-temp_df['tmin']\n",
    "y_error"
   ]
  },
  {
   "cell_type": "code",
   "execution_count": 33,
   "metadata": {},
   "outputs": [
    {
     "data": {
      "image/png": "[encoded data removed]",
      "text/plain": [
       "<Figure size 216x360 with 1 Axes>"
      ]
     },
     "metadata": {
      "needs_background": "light"
     },
     "output_type": "display_data"
    }
   ],
   "source": [
    "\n",
    "y_error = temp_df['tmax']-temp_df['tmin']\n",
    "temp_df['tavg'].plot(kind='bar', figsize = (3,5) , yerr=y_error, alpha=0.5 ,color=\"orange\")\n",
    "\n",
    "plt.ylabel(\"Average Temp\")\n",
    "plt.title(\"Trip Avg Temp\")\n",
    "plt.show()"
   ]
  },
  {
   "cell_type": "code",
   "execution_count": 43,
   "metadata": {},
   "outputs": [
    {
     "data": {
      "text/html": [
       "<div>\n",
       "<style scoped>\n",
       "    .dataframe tbody tr th:only-of-type {\n",
       "        vertical-align: middle;\n",
       "    }\n",
       "\n",
       "    .dataframe tbody tr th {\n",
       "        vertical-align: top;\n",
       "    }\n",
       "\n",
       "    .dataframe thead th {\n",
       "        text-align: right;\n",
       "    }\n",
       "</style>\n",
       "<table border=\"1\" class=\"dataframe\">\n",
       "  <thead>\n",
       "    <tr style=\"text-align: right;\">\n",
       "      <th></th>\n",
       "      <th>station</th>\n",
       "      <th>latitude</th>\n",
       "      <th>longitude</th>\n",
       "      <th>elevation</th>\n",
       "      <th>total rainfall</th>\n",
       "    </tr>\n",
       "  </thead>\n",
       "  <tbody>\n",
       "    <tr>\n",
       "      <th>0</th>\n",
       "      <td>USC00513117</td>\n",
       "      <td>21.42340</td>\n",
       "      <td>-157.80150</td>\n",
       "      <td>14.6</td>\n",
       "      <td>1</td>\n",
       "    </tr>\n",
       "    <tr>\n",
       "      <th>1</th>\n",
       "      <td>USC00514830</td>\n",
       "      <td>21.52130</td>\n",
       "      <td>-157.83740</td>\n",
       "      <td>7.0</td>\n",
       "      <td>1</td>\n",
       "    </tr>\n",
       "    <tr>\n",
       "      <th>2</th>\n",
       "      <td>USC00516128</td>\n",
       "      <td>21.33310</td>\n",
       "      <td>-157.80250</td>\n",
       "      <td>152.4</td>\n",
       "      <td>1</td>\n",
       "    </tr>\n",
       "    <tr>\n",
       "      <th>3</th>\n",
       "      <td>USC00519281</td>\n",
       "      <td>21.45167</td>\n",
       "      <td>-157.84889</td>\n",
       "      <td>32.9</td>\n",
       "      <td>1</td>\n",
       "    </tr>\n",
       "    <tr>\n",
       "      <th>4</th>\n",
       "      <td>USC00519397</td>\n",
       "      <td>21.27160</td>\n",
       "      <td>-157.81680</td>\n",
       "      <td>3.0</td>\n",
       "      <td>1</td>\n",
       "    </tr>\n",
       "    <tr>\n",
       "      <th>5</th>\n",
       "      <td>USC00519523</td>\n",
       "      <td>21.33556</td>\n",
       "      <td>-157.71139</td>\n",
       "      <td>19.5</td>\n",
       "      <td>1</td>\n",
       "    </tr>\n",
       "    <tr>\n",
       "      <th>6</th>\n",
       "      <td>USC00517948</td>\n",
       "      <td>21.39340</td>\n",
       "      <td>-157.97510</td>\n",
       "      <td>11.9</td>\n",
       "      <td>0</td>\n",
       "    </tr>\n",
       "  </tbody>\n",
       "</table>\n",
       "</div>"
      ],
      "text/plain": [
       "       station  latitude  longitude  elevation  total rainfall\n",
       "0  USC00513117  21.42340 -157.80150       14.6               1\n",
       "1  USC00514830  21.52130 -157.83740        7.0               1\n",
       "2  USC00516128  21.33310 -157.80250      152.4               1\n",
       "3  USC00519281  21.45167 -157.84889       32.9               1\n",
       "4  USC00519397  21.27160 -157.81680        3.0               1\n",
       "5  USC00519523  21.33556 -157.71139       19.5               1\n",
       "6  USC00517948  21.39340 -157.97510       11.9               0"
      ]
     },
     "execution_count": 43,
     "metadata": {},
     "output_type": "execute_result"
    }
   ],
   "source": [
    "# Calculate the total amount of rainfall per weather station for your trip dates using the previous year's matching dates.\n",
    "# Sort this in descending order by precipitation amount and list the station, name, latitude, longitude, and elevation\n",
    "\n",
    "prc_data = session.query(Measurement.station, Station.latitude, Station.longitude, Station.elevation, func.count(Measurement.prcp)).\\\n",
    "filter(Measurement.station == Station.station).\\\n",
    "group_by(Measurement.station).\\\n",
    "filter(Measurement.date.between(start_date, end_date)).order_by(func.count(Measurement.prcp).desc()).all()\n",
    "\n",
    "\n",
    "prc_df = pd.DataFrame(prc_data, columns=['station','latitude', 'longitude', 'elevation','total rainfall'])\n",
    "prc_df"
   ]
  },
  {
   "cell_type": "markdown",
   "metadata": {},
   "source": [
    "## Optional Challenge Assignment"
   ]
  },
  {
   "cell_type": "code",
   "execution_count": 35,
   "metadata": {},
   "outputs": [
    {
     "data": {
      "text/plain": [
       "[(62.0, 69.15384615384616, 77.0)]"
      ]
     },
     "execution_count": 35,
     "metadata": {},
     "output_type": "execute_result"
    }
   ],
   "source": [
    "# Create a query that will calculate the daily normals \n",
    "# (i.e. the averages for tmin, tmax, and tavg for all historic data matching a specific month and day)\n",
    "\n",
    "def daily_normals(date):\n",
    "    \"\"\"Daily Normals.\n",
    "    \n",
    "    Args:\n",
    "        date (str): A date string in the format '%m-%d'\n",
    "        \n",
    "    Returns:\n",
    "        A list of tuples containing the daily normals, tmin, tavg, and tmax\n",
    "    \n",
    "    \"\"\"\n",
    "    \n",
    "    sel = [func.min(Measurement.tobs), func.avg(Measurement.tobs), func.max(Measurement.tobs)]\n",
    "    return session.query(*sel).filter(func.strftime(\"%m-%d\", Measurement.date) == date).all()\n",
    "    \n",
    "daily_normals(\"01-01\")"
   ]
  },
  {
   "cell_type": "code",
   "execution_count": 36,
   "metadata": {},
   "outputs": [],
   "source": [
    "# calculate the daily normals for your trip\n",
    "# push each tuple of calculations into a list called `normals`\n",
    "\n",
    "# Set the start and end date of the trip\n",
    "\n",
    "# Use the start and end date to create a range of dates\n",
    "\n",
    "# Stip off the year and save a list of %m-%d strings\n",
    "\n",
    "# Loop through the list of %m-%d strings and calculate the normals for each date\n"
   ]
  },
  {
   "cell_type": "code",
   "execution_count": 37,
   "metadata": {},
   "outputs": [],
   "source": [
    "# Load the previous query results into a Pandas DataFrame and add the `trip_dates` range as the `date` index\n"
   ]
  },
  {
   "cell_type": "code",
   "execution_count": 38,
   "metadata": {},
   "outputs": [],
   "source": [
    "# Plot the daily normals as an area plot with `stacked=False`\n"
   ]
  }
 ],
 "metadata": {
  "kernel_info": {
   "name": "python3"
  },
  "kernelspec": {
   "display_name": "Python 3",
   "language": "python",
   "name": "python3"
  },
  "language_info": {
   "codemirror_mode": {
    "name": "ipython",
    "version": 3
   },
   "file_extension": ".py",
   "mimetype": "text/x-python",
   "name": "python",
   "nbconvert_exporter": "python",
   "pygments_lexer": "ipython3",
   "version": "3.7.3"
  },
  "nteract": {
   "version": "0.12.3"
  },
  "varInspector": {
   "cols": {
    "lenName": 16,
    "lenType": 16,
    "lenVar": 40
   },
   "kernels_config": {
    "python": {
     "delete_cmd_postfix": "",
     "delete_cmd_prefix": "del ",
     "library": "var_list.py",
     "varRefreshCmd": "print(var_dic_list())"
    },
    "r": {
     "delete_cmd_postfix": ") ",
     "delete_cmd_prefix": "rm(",
     "library": "var_list.r",
     "varRefreshCmd": "cat(var_dic_list()) "
    }
   },
   "types_to_exclude": [
    "module",
    "function",
    "builtin_function_or_method",
    "instance",
    "_Feature"
   ],
   "window_display": false
  }
 },
 "nbformat": 4,
 "nbformat_minor": 2
}
